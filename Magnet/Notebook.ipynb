{
  "nbformat": 4,
  "nbformat_minor": 0,
  "metadata": {
    "colab": {
      "provenance": [],
      "gpuType": "T4",
      "authorship_tag": "ABX9TyOMg0NfRLaCnl3yZm3MIROd"
    },
    "kernelspec": {
      "name": "python3",
      "display_name": "Python 3"
    },
    "language_info": {
      "name": "python"
    },
    "accelerator": "GPU"
  },
  "cells": [
    {
      "cell_type": "code",
      "execution_count": 1,
      "metadata": {
        "id": "r910EfCS4ojz",
        "outputId": "f818fb5e-c80c-4546-a4af-5d9644633fe0",
        "colab": {
          "base_uri": "https://localhost:8080/"
        }
      },
      "outputs": [
        {
          "output_type": "stream",
          "name": "stdout",
          "text": [
            "Cloning into '/content/continous_magnet'...\n",
            "remote: Enumerating objects: 184, done.\u001b[K\n",
            "remote: Counting objects: 100% (184/184), done.\u001b[K\n",
            "remote: Compressing objects: 100% (94/94), done.\u001b[K\n",
            "remote: Total 184 (delta 88), reused 180 (delta 84), pack-reused 0 (from 0)\u001b[K\n",
            "Receiving objects: 100% (184/184), 90.24 KiB | 3.01 MiB/s, done.\n",
            "Resolving deltas: 100% (88/88), done.\n",
            "/content/continous_magnet\n",
            "total 32\n",
            "drwxr-xr-x 7 root root 4096 Mar  9 14:26  .\n",
            "drwxr-xr-x 1 root root 4096 Mar  9 14:26  ..\n",
            "drwxr-xr-x 8 root root 4096 Mar  9 14:26  .git\n",
            "drwxr-xr-x 4 root root 4096 Mar  9 14:26  Magnet\n",
            "drwxr-xr-x 4 root root 4096 Mar  9 14:26 'Magnet plus vmf'\n",
            "-rw-r--r-- 1 root root  538 Mar  9 14:26  Readme.txt\n",
            "drwxr-xr-x 4 root root 4096 Mar  9 14:26  Triplet\n",
            "drwxr-xr-x 2 root root 4096 Mar  9 14:26  VMF\n"
          ]
        }
      ],
      "source": [
        "!rm -rf /content/continous_magnet\n",
        "!git clone https://github.com/GitHubSamm/continous_magnet.git /content/continous_magnet\n",
        "%cd /content/continous_magnet\n",
        "!ls -la"
      ]
    },
    {
      "cell_type": "code",
      "source": [
        "import os\n",
        "os.chdir('/content/continous_magnet/Magnet')\n",
        "os.getcwd()"
      ],
      "metadata": {
        "id": "xFiX69IFdzEK",
        "outputId": "745bcea2-1564-4239-8894-f511d9868ebb",
        "colab": {
          "base_uri": "https://localhost:8080/",
          "height": 36
        }
      },
      "execution_count": 2,
      "outputs": [
        {
          "output_type": "execute_result",
          "data": {
            "text/plain": [
              "'/content/continous_magnet/Magnet'"
            ],
            "application/vnd.google.colaboratory.intrinsic+json": {
              "type": "string"
            }
          },
          "metadata": {},
          "execution_count": 2
        }
      ]
    },
    {
      "cell_type": "code",
      "source": [
        "!python /content/continous_magnet/Magnet/main.py"
      ],
      "metadata": {
        "id": "ClfnJBoUeazO",
        "outputId": "dd2d21c9-7c6e-4d27-f85a-12ffdd249304",
        "colab": {
          "base_uri": "https://localhost:8080/"
        }
      },
      "execution_count": 4,
      "outputs": [
        {
          "output_type": "stream",
          "name": "stdout",
          "text": [
            "Importing data...\n",
            "Downloading https://www.cs.toronto.edu/~kriz/cifar-10-python.tar.gz to ./data/cifar-10-python.tar.gz\n",
            "100% 170M/170M [00:02<00:00, 76.1MB/s]\n",
            "Extracting ./data/cifar-10-python.tar.gz to ./data\n",
            "Files already downloaded and verified\n",
            "   #######################  Train Epoch: 0 train_acc: 0.2832  test_acc: 0.2750 ###################       \n",
            "Traceback (most recent call last):\n",
            "  File \"/content/continous_magnet/Magnet/main.py\", line 45, in <module>\n",
            "    learning_function(model,optimizer,device,images_train, labels_train,images_test,labels_test)\n",
            "  File \"/content/continous_magnet/Magnet/learning_function.py\", line 65, in learning_function\n",
            "    loss.backward()\n",
            "  File \"/usr/local/lib/python3.11/dist-packages/torch/_tensor.py\", line 581, in backward\n",
            "    torch.autograd.backward(\n",
            "  File \"/usr/local/lib/python3.11/dist-packages/torch/autograd/__init__.py\", line 347, in backward\n",
            "    _engine_run_backward(\n",
            "  File \"/usr/local/lib/python3.11/dist-packages/torch/autograd/graph.py\", line 825, in _engine_run_backward\n",
            "    return Variable._execution_engine.run_backward(  # Calls into the C++ engine to run the backward pass\n",
            "           ^^^^^^^^^^^^^^^^^^^^^^^^^^^^^^^^^^^^^^^^^^^^^^^^^^^^^^^^^^^^^^^^^^^^^^^^^^^^^^^^^^^^^^^^^^^^^^\n",
            "KeyboardInterrupt\n",
            "^C\n"
          ]
        }
      ]
    },
    {
      "cell_type": "code",
      "source": [],
      "metadata": {
        "id": "C04EeRF0vRds"
      },
      "execution_count": 13,
      "outputs": []
    }
  ]
}